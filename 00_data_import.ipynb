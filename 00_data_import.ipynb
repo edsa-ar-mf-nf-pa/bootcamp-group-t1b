{
 "cells": [
  {
   "cell_type": "markdown",
   "id": "2fefbf62",
   "metadata": {},
   "source": [
    "# Backorder Prediction"
   ]
  },
  {
   "cell_type": "code",
   "execution_count": 1,
   "id": "1074b8a0",
   "metadata": {},
   "outputs": [],
   "source": [
    "from imports import *\n",
    "%matplotlib inline"
   ]
  },
  {
   "cell_type": "code",
   "execution_count": 2,
   "id": "780466bc",
   "metadata": {},
   "outputs": [],
   "source": [
    "df_shapes_log = pd.DataFrame()"
   ]
  },
  {
   "cell_type": "markdown",
   "id": "5ff82010",
   "metadata": {},
   "source": [
    "## Reading the train and test datasets"
   ]
  },
  {
   "cell_type": "code",
   "execution_count": 3,
   "id": "e8d00fbc",
   "metadata": {},
   "outputs": [],
   "source": [
    "df=pd.read_csv(config.csv_file_train,low_memory=False)\n",
    "df_test=pd.read_csv(config.csv_file_test,low_memory=False)\n"
   ]
  },
  {
   "cell_type": "code",
   "execution_count": 4,
   "id": "3bd0779d",
   "metadata": {},
   "outputs": [
    {
     "name": "stdout",
     "output_type": "stream",
     "text": [
      "The training data shape = (1687861, 23) . The test data shape = (242076, 23)\n"
     ]
    }
   ],
   "source": [
    "print(\"The training data shape =\",df.shape ,\". The test data shape =\", df_test.shape)"
   ]
  },
  {
   "cell_type": "code",
   "execution_count": 5,
   "id": "144c73ef",
   "metadata": {},
   "outputs": [],
   "source": [
    "# Drop last row from each dataset since they are resume lines with some measures about the dataset\n",
    "df.drop(df.tail(1).index,inplace=True)\n",
    "df_test.drop(df_test.tail(1).index,inplace=True)"
   ]
  },
  {
   "cell_type": "code",
   "execution_count": 6,
   "id": "d3e868c6",
   "metadata": {},
   "outputs": [],
   "source": [
    "df.drop(['sku'],axis=1,inplace=True)\n",
    "df_test.drop(['sku'],axis=1,inplace=True)"
   ]
  },
  {
   "cell_type": "code",
   "execution_count": 7,
   "id": "0b208d89",
   "metadata": {},
   "outputs": [
    {
     "data": {
      "text/html": [
       "<div>\n",
       "<style scoped>\n",
       "    .dataframe tbody tr th:only-of-type {\n",
       "        vertical-align: middle;\n",
       "    }\n",
       "\n",
       "    .dataframe tbody tr th {\n",
       "        vertical-align: top;\n",
       "    }\n",
       "\n",
       "    .dataframe thead th {\n",
       "        text-align: right;\n",
       "    }\n",
       "</style>\n",
       "<table border=\"1\" class=\"dataframe\">\n",
       "  <thead>\n",
       "    <tr style=\"text-align: right;\">\n",
       "      <th></th>\n",
       "      <th>Description</th>\n",
       "      <th>X_Cols</th>\n",
       "      <th>X_Rows</th>\n",
       "      <th>Y_Rows</th>\n",
       "      <th>Y0</th>\n",
       "      <th>Y1</th>\n",
       "      <th>Y1 %</th>\n",
       "    </tr>\n",
       "  </thead>\n",
       "  <tbody>\n",
       "    <tr>\n",
       "      <th>0</th>\n",
       "      <td>initial dataset</td>\n",
       "      <td>22</td>\n",
       "      <td>1687860</td>\n",
       "      <td>1687860</td>\n",
       "      <td>1676567</td>\n",
       "      <td>11293</td>\n",
       "      <td>0.67</td>\n",
       "    </tr>\n",
       "    <tr>\n",
       "      <th>0</th>\n",
       "      <td>initial test dataset</td>\n",
       "      <td>22</td>\n",
       "      <td>242075</td>\n",
       "      <td>242075</td>\n",
       "      <td>239387</td>\n",
       "      <td>2688</td>\n",
       "      <td>1.11</td>\n",
       "    </tr>\n",
       "  </tbody>\n",
       "</table>\n",
       "</div>"
      ],
      "text/plain": [
       "            Description X_Cols   X_Rows   Y_Rows       Y0     Y1  Y1 %\n",
       "0       initial dataset     22  1687860  1687860  1676567  11293  0.67\n",
       "0  initial test dataset     22   242075   242075   239387   2688  1.11"
      ]
     },
     "execution_count": 7,
     "metadata": {},
     "output_type": "execute_result"
    }
   ],
   "source": [
    "df_shapes_log = pd.concat([df_shapes_log, fn.df_shape(X = df, Y = df[config.y_column],y0 = 'No',y1='Yes', description= 'initial dataset')])\n",
    "df_shapes_log = pd.concat([df_shapes_log, fn.df_shape(X = df_test, Y = df_test[config.y_column],y0 = 'No',y1='Yes', description= 'initial test dataset')])\n",
    "df_shapes_log\n"
   ]
  },
  {
   "cell_type": "markdown",
   "id": "f2b333d6",
   "metadata": {},
   "source": [
    "## Check if we need to reduce the dataset (used in debug mode for faster training)"
   ]
  },
  {
   "cell_type": "code",
   "execution_count": 8,
   "id": "8324d628",
   "metadata": {},
   "outputs": [],
   "source": [
    "if config.flag_use_reduced_dataset:\n",
    "    _, df = train_test_split(df, test_size=config.reduced_dataset_size, stratify=df[config.y_column])\n",
    "    # df = train;\n",
    "    _, df_test = train_test_split(df_test, test_size=config.reduced_dataset_size, stratify=df_test[config.y_column])\n",
    "    #df = train;"
   ]
  },
  {
   "cell_type": "code",
   "execution_count": 9,
   "id": "3f5ba081",
   "metadata": {},
   "outputs": [
    {
     "data": {
      "text/html": [
       "<div>\n",
       "<style scoped>\n",
       "    .dataframe tbody tr th:only-of-type {\n",
       "        vertical-align: middle;\n",
       "    }\n",
       "\n",
       "    .dataframe tbody tr th {\n",
       "        vertical-align: top;\n",
       "    }\n",
       "\n",
       "    .dataframe thead th {\n",
       "        text-align: right;\n",
       "    }\n",
       "</style>\n",
       "<table border=\"1\" class=\"dataframe\">\n",
       "  <thead>\n",
       "    <tr style=\"text-align: right;\">\n",
       "      <th></th>\n",
       "      <th>Description</th>\n",
       "      <th>X_Cols</th>\n",
       "      <th>X_Rows</th>\n",
       "      <th>Y_Rows</th>\n",
       "      <th>Y0</th>\n",
       "      <th>Y1</th>\n",
       "      <th>Y1 %</th>\n",
       "    </tr>\n",
       "  </thead>\n",
       "  <tbody>\n",
       "    <tr>\n",
       "      <th>0</th>\n",
       "      <td>initial dataset</td>\n",
       "      <td>22</td>\n",
       "      <td>1687860</td>\n",
       "      <td>1687860</td>\n",
       "      <td>1676567</td>\n",
       "      <td>11293</td>\n",
       "      <td>0.67</td>\n",
       "    </tr>\n",
       "    <tr>\n",
       "      <th>0</th>\n",
       "      <td>initial test dataset</td>\n",
       "      <td>22</td>\n",
       "      <td>242075</td>\n",
       "      <td>242075</td>\n",
       "      <td>239387</td>\n",
       "      <td>2688</td>\n",
       "      <td>1.11</td>\n",
       "    </tr>\n",
       "    <tr>\n",
       "      <th>0</th>\n",
       "      <td>initial dataset</td>\n",
       "      <td>22</td>\n",
       "      <td>84393</td>\n",
       "      <td>84393</td>\n",
       "      <td>83828</td>\n",
       "      <td>565</td>\n",
       "      <td>0.67</td>\n",
       "    </tr>\n",
       "    <tr>\n",
       "      <th>0</th>\n",
       "      <td>initial test dataset</td>\n",
       "      <td>22</td>\n",
       "      <td>12104</td>\n",
       "      <td>12104</td>\n",
       "      <td>11970</td>\n",
       "      <td>134</td>\n",
       "      <td>1.11</td>\n",
       "    </tr>\n",
       "  </tbody>\n",
       "</table>\n",
       "</div>"
      ],
      "text/plain": [
       "            Description X_Cols   X_Rows   Y_Rows       Y0     Y1  Y1 %\n",
       "0       initial dataset     22  1687860  1687860  1676567  11293  0.67\n",
       "0  initial test dataset     22   242075   242075   239387   2688  1.11\n",
       "0       initial dataset     22    84393    84393    83828    565  0.67\n",
       "0  initial test dataset     22    12104    12104    11970    134  1.11"
      ]
     },
     "execution_count": 9,
     "metadata": {},
     "output_type": "execute_result"
    }
   ],
   "source": [
    "df_shapes_log = pd.concat([df_shapes_log, fn.df_shape(X = df, Y = df[config.y_column],y0 = 'No',y1='Yes', description= 'initial dataset')])\n",
    "df_shapes_log = pd.concat([df_shapes_log, fn.df_shape(X = df_test, Y = df_test[config.y_column],y0 = 'No',y1='Yes', description= 'initial test dataset')])\n",
    "df_shapes_log"
   ]
  },
  {
   "cell_type": "markdown",
   "id": "07407a72",
   "metadata": {},
   "source": [
    "## Export processed data sets to be used in next steps"
   ]
  },
  {
   "cell_type": "code",
   "execution_count": 10,
   "id": "16e0bab8",
   "metadata": {},
   "outputs": [],
   "source": [
    "if not os.path.exists(config.cache_dir):\n",
    "    os.makedirs(config.cache_dir)\n",
    "if not os.path.exists(config.output_dir):\n",
    "    os.makedirs(config.output_dir)"
   ]
  },
  {
   "cell_type": "code",
   "execution_count": 11,
   "id": "fd915ce9",
   "metadata": {},
   "outputs": [],
   "source": [
    "df.to_hdf(config.df_initial, 'df', 'w')\n",
    "df_test.to_hdf(config.df_test_initial, 'df', 'w')"
   ]
  }
 ],
 "metadata": {
  "kernelspec": {
   "display_name": "Python 3.9.15 ('tensorflow2')",
   "language": "python",
   "name": "python3"
  },
  "language_info": {
   "codemirror_mode": {
    "name": "ipython",
    "version": 3
   },
   "file_extension": ".py",
   "mimetype": "text/x-python",
   "name": "python",
   "nbconvert_exporter": "python",
   "pygments_lexer": "ipython3",
   "version": "3.9.15"
  },
  "vscode": {
   "interpreter": {
    "hash": "9c46a533bf28783d313d43b500dc9f4e2f54835bca8a0226ee7491f5227ca731"
   }
  }
 },
 "nbformat": 4,
 "nbformat_minor": 5
}
